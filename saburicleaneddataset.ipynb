{
 "cells": [
  {
   "cell_type": "code",
   "execution_count": 5,
   "id": "d4312a10-cedb-456b-bf09-5fe720eef789",
   "metadata": {},
   "outputs": [],
   "source": [
    "#Import these libraries first\n",
    "import pandas as pd\n",
    "import numpy as np\n",
    "from datetime import date"
   ]
  },
  {
   "cell_type": "code",
   "execution_count": 6,
   "id": "34fbaa19-b3cd-485c-892c-4ce7307196b0",
   "metadata": {},
   "outputs": [],
   "source": [
    "#Load the Dataset\n",
    "\n",
    "data = {\n",
    "    \"ID\": [1, 2, 3, 4, 5, 6, 7, 8, 9, 10],\n",
    "    \"First_Name\": [\"Alice\", \"Bob\", \"Charlie\", \"Alice\", \"Eve\", \"Frank\", \"George\", \"Hannah\", \"\", \"Ivan\"],\n",
    "    \"Last_Name\": [\"Smith\", \"Brown\", \"Johnson\", \"Smith\", \"\", \"Miller\", \"White\", \"Davis\", \"\", \"Lee\"],\n",
    "    \"Age\": [25, 30, 35, 25, np.nan, -5, 45, 28, 40, 50],\n",
    "    \"City\": [\"New York\", \"Los Angeles\", \"Chicago\", \"New York\", \"San Francisco\", \"Miami\", \"\", \"Dallas\", \"Seattle\", \"Boston\"],\n",
    "    \"Joined_Date\": [\"2021-01-15\", \"2021-01-20\", \"2021-03-01\", \"2021-01-15\", \"2021-06-30\", \"2021-12-01\", \"2021-09-10\", \"2021-09-15\", \"InvalidDate\", \"2021-11-20\"],\n",
    "    \"Salary\": [50000, None, 70000, 50000, 45000, 80000, 90000, -30000, 60000, 75000],\n",
    "    \"Gender\": [\"Female\", \"M\", \"Male\", \"Female\", \"Female\", \"Male\", \"M\", \"Female\", None, \"Male\"]\n",
    "}\n",
    "\n"
   ]
  },
  {
   "cell_type": "code",
   "execution_count": 7,
   "id": "fe3fcd62-9d19-428d-9960-293a7fe50277",
   "metadata": {},
   "outputs": [],
   "source": [
    "#Create a DataFrame\n",
    "df = pd.DataFrame(data)"
   ]
  },
  {
   "cell_type": "code",
   "execution_count": 8,
   "id": "1d18f107-3e0a-47bb-8916-d4725cf6ce50",
   "metadata": {},
   "outputs": [
    {
     "name": "stdout",
     "output_type": "stream",
     "text": [
      "Original DataFrame:\n",
      "   ID First_Name Last_Name   Age           City  Joined_Date   Salary  Gender\n",
      "0   1      Alice     Smith  25.0       New York   2021-01-15  50000.0  Female\n",
      "1   2        Bob     Brown  30.0    Los Angeles   2021-01-20      NaN       M\n",
      "2   3    Charlie   Johnson  35.0        Chicago   2021-03-01  70000.0    Male\n",
      "3   4      Alice     Smith  25.0       New York   2021-01-15  50000.0  Female\n",
      "4   5        Eve             NaN  San Francisco   2021-06-30  45000.0  Female\n",
      "5   6      Frank    Miller  -5.0          Miami   2021-12-01  80000.0    Male\n",
      "6   7     George     White  45.0                  2021-09-10  90000.0       M\n",
      "7   8     Hannah     Davis  28.0         Dallas   2021-09-15 -30000.0  Female\n",
      "8   9                       40.0        Seattle  InvalidDate  60000.0    None\n",
      "9  10       Ivan       Lee  50.0         Boston   2021-11-20  75000.0    Male\n"
     ]
    }
   ],
   "source": [
    "#Display the original dataset\n",
    "print(\"Original DataFrame:\")\n",
    "print(df)"
   ]
  },
  {
   "cell_type": "code",
   "execution_count": 11,
   "id": "0109b4cc-7a14-496d-8f00-9b4290afa88f",
   "metadata": {},
   "outputs": [],
   "source": [
    "#This is the data cleaning stage\n",
    "# Handle missing values\n",
    "df['Salary'] = df['Salary'].fillna(df['Salary'].mean())  # Fill missing Salary with mean\n",
    "df['Age'] = df['Age'].fillna(df['Age'].median())  # Fill missing Age with median\n",
    "df['City'] = df['City'].replace(\"\", np.nan).fillna(\"Unknown\")  # Replace empty City with 'Unknown'\n",
    "df['First_Name'] = df['First_Name'].replace(\"\", \"Unknown\")  # Replace empty First_Name with 'Unknown'\n",
    "df['Last_Name'] = df['Last_Name'].replace(\"\", \"Unknown\")  # Replace empty Last_Name with 'Unknown'"
   ]
  },
  {
   "cell_type": "code",
   "execution_count": 12,
   "id": "c2631d7e-7ef6-4ddd-9632-686b05a76c99",
   "metadata": {},
   "outputs": [
    {
     "name": "stdout",
     "output_type": "stream",
     "text": [
      "   ID First_Name Last_Name   Age           City  Joined_Date        Salary  \\\n",
      "0   1      Alice     Smith  25.0       New York   2021-01-15  50000.000000   \n",
      "1   2        Bob     Brown  30.0    Los Angeles   2021-01-20  54444.444444   \n",
      "2   3    Charlie   Johnson  35.0        Chicago   2021-03-01  70000.000000   \n",
      "3   4      Alice     Smith  25.0       New York   2021-01-15  50000.000000   \n",
      "4   5        Eve   Unknown  30.0  San Francisco   2021-06-30  45000.000000   \n",
      "5   6      Frank    Miller  -5.0          Miami   2021-12-01  80000.000000   \n",
      "6   7     George     White  45.0        Unknown   2021-09-10  90000.000000   \n",
      "7   8     Hannah     Davis  28.0         Dallas   2021-09-15 -30000.000000   \n",
      "8   9    Unknown   Unknown  40.0        Seattle  InvalidDate  60000.000000   \n",
      "9  10       Ivan       Lee  50.0         Boston   2021-11-20  75000.000000   \n",
      "\n",
      "   Gender  \n",
      "0  Female  \n",
      "1       M  \n",
      "2    Male  \n",
      "3  Female  \n",
      "4  Female  \n",
      "5    Male  \n",
      "6       M  \n",
      "7  Female  \n",
      "8    None  \n",
      "9    Male  \n"
     ]
    }
   ],
   "source": [
    "print(df)"
   ]
  },
  {
   "cell_type": "code",
   "execution_count": 13,
   "id": "ed303af1-8271-4c10-bf39-0e1fdb7569eb",
   "metadata": {},
   "outputs": [
    {
     "name": "stdout",
     "output_type": "stream",
     "text": [
      "\n",
      "All IDs are unique.\n"
     ]
    }
   ],
   "source": [
    "# Check for duplicate IDs\n",
    "duplicate_ids = df[df['ID'].duplicated()]\n",
    "if duplicate_ids.empty:\n",
    "    print(\"\\nAll IDs are unique.\")\n",
    "else:\n",
    "    print(\"\\nDuplicate IDs found:\")\n",
    "    print(duplicate_ids)\n",
    "\n",
    "# Drop logical duplicates based on specific columns\n",
    "df.drop_duplicates(subset=['First_Name', 'Last_Name', 'Age', 'City', 'Joined_Date', 'Salary', 'Gender'], inplace =True)"
   ]
  },
  {
   "cell_type": "code",
   "execution_count": 14,
   "id": "e7269746-b10e-49d0-9eba-009c43c4c8a7",
   "metadata": {},
   "outputs": [
    {
     "name": "stdout",
     "output_type": "stream",
     "text": [
      "   ID First_Name Last_Name   Age           City  Joined_Date        Salary  \\\n",
      "0   1      Alice     Smith  25.0       New York   2021-01-15  50000.000000   \n",
      "1   2        Bob     Brown  30.0    Los Angeles   2021-01-20  54444.444444   \n",
      "2   3    Charlie   Johnson  35.0        Chicago   2021-03-01  70000.000000   \n",
      "4   5        Eve   Unknown  30.0  San Francisco   2021-06-30  45000.000000   \n",
      "5   6      Frank    Miller  -5.0          Miami   2021-12-01  80000.000000   \n",
      "6   7     George     White  45.0        Unknown   2021-09-10  90000.000000   \n",
      "7   8     Hannah     Davis  28.0         Dallas   2021-09-15 -30000.000000   \n",
      "8   9    Unknown   Unknown  40.0        Seattle  InvalidDate  60000.000000   \n",
      "9  10       Ivan       Lee  50.0         Boston   2021-11-20  75000.000000   \n",
      "\n",
      "   Gender  \n",
      "0  Female  \n",
      "1       M  \n",
      "2    Male  \n",
      "4  Female  \n",
      "5    Male  \n",
      "6       M  \n",
      "7  Female  \n",
      "8    None  \n",
      "9    Male  \n"
     ]
    }
   ],
   "source": [
    "print(df)"
   ]
  },
  {
   "cell_type": "code",
   "execution_count": 84,
   "id": "18e1723c-3e0b-4e3e-9947-3d963445d7df",
   "metadata": {},
   "outputs": [],
   "source": [
    "#Handle Invalid Data\n",
    "#Convert Joined_Date to datetime format\n",
    "df['Joined_Date'] = pd.to_datetime(df['Joined_Date'], errors='coerce')"
   ]
  },
  {
   "cell_type": "code",
   "execution_count": 85,
   "id": "bca146e1-406e-4d5b-becd-408b69f9b8b4",
   "metadata": {},
   "outputs": [],
   "source": [
    "# Handle negative values in Age column\n",
    "df['Age'] = df['Age'].apply(lambda x: x if x > 0 else np.nan).fillna(df['Age'].median())"
   ]
  },
  {
   "cell_type": "code",
   "execution_count": 86,
   "id": "d525e270-48d8-4426-943b-fc676559d74d",
   "metadata": {},
   "outputs": [],
   "source": [
    "# Handle negative values in Salary column\n",
    "df['Salary'] = df['Salary'].apply(lambda x: x if x >= 0 else np.nan).fillna(df['Salary'].mean())"
   ]
  },
  {
   "cell_type": "code",
   "execution_count": 22,
   "id": "55ed72f2-ac08-4a6d-8bbe-e9adf109804b",
   "metadata": {},
   "outputs": [],
   "source": [
    "# Standardize Gender values\n",
    "df['Gender'] = df['Gender'].replace({'M': 'Male', 'F': 'Female'}).fillna(\"Unknown\")"
   ]
  },
  {
   "cell_type": "code",
   "execution_count": 23,
   "id": "7809d2c4-a3ca-4aa5-9db4-0d85b2e38aa7",
   "metadata": {},
   "outputs": [],
   "source": [
    "# Scenario 1: Normalize text columns (e.g., First_Name, Last_Name)\n",
    "df['First_Name'] = df['First_Name'].str.strip().str.title()  # Remove leading/trailing spaces and capitalize\n",
    "df['Last_Name'] = df['Last_Name'].str.strip().str.title()"
   ]
  },
  {
   "cell_type": "code",
   "execution_count": 24,
   "id": "52afcfd3-8658-490b-bade-9a7e3f9205ed",
   "metadata": {},
   "outputs": [],
   "source": [
    "#Feauture Engineering \n",
    "#Combine First_Name and Last_Name into Full_Name\n",
    "df['Full_Name'] = df['First_Name'] + \" \" + df['Last_Name']"
   ]
  },
  {
   "cell_type": "code",
   "execution_count": 25,
   "id": "95d13721-9a81-4daa-bb32-a241efb8d698",
   "metadata": {},
   "outputs": [],
   "source": [
    "# Create an Age_Group column\n",
    "df['Age_Group'] = pd.cut(df['Age'], bins=[0, 25, 40, 60], labels=['Youth', 'Adult', 'Senior'])"
   ]
  },
  {
   "cell_type": "code",
   "execution_count": 26,
   "id": "1bb03487-70e0-46bf-bf11-b4c574fe36f0",
   "metadata": {},
   "outputs": [
    {
     "name": "stdout",
     "output_type": "stream",
     "text": [
      "   ID First_Name Last_Name   Age           City Joined_Date        Salary  \\\n",
      "0   1      Alice     Smith  25.0       New York  2021-01-15  50000.000000   \n",
      "1   2        Bob     Brown  30.0    Los Angeles  2021-01-20  54444.444444   \n",
      "2   3    Charlie   Johnson  35.0        Chicago  2021-03-01  70000.000000   \n",
      "4   5        Eve   Unknown  30.0  San Francisco  2021-06-30  45000.000000   \n",
      "5   6      Frank    Miller  30.0          Miami  2021-12-01  80000.000000   \n",
      "6   7     George     White  45.0        Unknown  2021-09-10  90000.000000   \n",
      "7   8     Hannah     Davis  28.0         Dallas  2021-09-15  54938.271605   \n",
      "8   9    Unknown   Unknown  40.0        Seattle  2025-01-06  60000.000000   \n",
      "9  10       Ivan       Lee  50.0         Boston  2021-11-20  75000.000000   \n",
      "\n",
      "    Gender        Full_Name Age_Group  \n",
      "0   Female      Alice Smith     Youth  \n",
      "1     Male        Bob Brown     Adult  \n",
      "2     Male  Charlie Johnson     Adult  \n",
      "4   Female      Eve Unknown     Adult  \n",
      "5     Male     Frank Miller     Adult  \n",
      "6     Male     George White    Senior  \n",
      "7   Female     Hannah Davis     Adult  \n",
      "8  Unknown  Unknown Unknown     Adult  \n",
      "9     Male         Ivan Lee    Senior  \n"
     ]
    }
   ],
   "source": [
    "print(df)"
   ]
  },
  {
   "cell_type": "code",
   "execution_count": 27,
   "id": "1d4e8889-3f2c-4d18-9f00-012c03b2f1b6",
   "metadata": {},
   "outputs": [],
   "source": [
    "# Convert Joined_Date to datetime format\n",
    "df['Joined_Date'] = pd.to_datetime(df['Joined_Date'], errors='coerce')\n",
    "\n",
    "#  Extract Year from Joined_Date\n",
    "df['Joined_Year'] = df['Joined_Date'].dt.year"
   ]
  },
  {
   "cell_type": "code",
   "execution_count": 28,
   "id": "e62e9d81-826b-4c2e-8e45-6ed14af2d76c",
   "metadata": {},
   "outputs": [
    {
     "name": "stdout",
     "output_type": "stream",
     "text": [
      "   ID First_Name Last_Name   Age           City Joined_Date        Salary  \\\n",
      "0   1      Alice     Smith  25.0       New York  2021-01-15  50000.000000   \n",
      "1   2        Bob     Brown  30.0    Los Angeles  2021-01-20  54444.444444   \n",
      "2   3    Charlie   Johnson  35.0        Chicago  2021-03-01  70000.000000   \n",
      "4   5        Eve   Unknown  30.0  San Francisco  2021-06-30  45000.000000   \n",
      "5   6      Frank    Miller  30.0          Miami  2021-12-01  80000.000000   \n",
      "6   7     George     White  45.0        Unknown  2021-09-10  90000.000000   \n",
      "7   8     Hannah     Davis  28.0         Dallas  2021-09-15  54938.271605   \n",
      "8   9    Unknown   Unknown  40.0        Seattle  2025-01-06  60000.000000   \n",
      "9  10       Ivan       Lee  50.0         Boston  2021-11-20  75000.000000   \n",
      "\n",
      "    Gender        Full_Name Age_Group  Joined_Year  \n",
      "0   Female      Alice Smith     Youth         2021  \n",
      "1     Male        Bob Brown     Adult         2021  \n",
      "2     Male  Charlie Johnson     Adult         2021  \n",
      "4   Female      Eve Unknown     Adult         2021  \n",
      "5     Male     Frank Miller     Adult         2021  \n",
      "6     Male     George White    Senior         2021  \n",
      "7   Female     Hannah Davis     Adult         2021  \n",
      "8  Unknown  Unknown Unknown     Adult         2025  \n",
      "9     Male         Ivan Lee    Senior         2021  \n"
     ]
    }
   ],
   "source": [
    "print(df)"
   ]
  },
  {
   "cell_type": "code",
   "execution_count": 30,
   "id": "603343c6-5935-4eb8-af9e-a5cfe2f631a0",
   "metadata": {},
   "outputs": [],
   "source": [
    "# Save the cleaned dataset to a CSV file\n",
    "df.to_csv(r'D:\\College Course 2 PP\\Python\\saburifirstcleaneddataset.csv', index = False) "
   ]
  },
  {
   "cell_type": "code",
   "execution_count": 32,
   "id": "3ff03df2-c494-47c8-8180-f4f18cb43f7a",
   "metadata": {},
   "outputs": [
    {
     "name": "stdout",
     "output_type": "stream",
     "text": [
      "Collecting seaborn\n",
      "  Downloading seaborn-0.13.2-py3-none-any.whl.metadata (5.4 kB)\n",
      "Requirement already satisfied: numpy!=1.24.0,>=1.20 in c:\\users\\e1ure\\appdata\\local\\programs\\python\\python313\\lib\\site-packages (from seaborn) (2.2.1)\n",
      "Requirement already satisfied: pandas>=1.2 in c:\\users\\e1ure\\appdata\\local\\programs\\python\\python313\\lib\\site-packages (from seaborn) (2.2.3)\n",
      "Requirement already satisfied: matplotlib!=3.6.1,>=3.4 in c:\\users\\e1ure\\appdata\\local\\programs\\python\\python313\\lib\\site-packages (from seaborn) (3.10.0)\n",
      "Requirement already satisfied: contourpy>=1.0.1 in c:\\users\\e1ure\\appdata\\local\\programs\\python\\python313\\lib\\site-packages (from matplotlib!=3.6.1,>=3.4->seaborn) (1.3.1)\n",
      "Requirement already satisfied: cycler>=0.10 in c:\\users\\e1ure\\appdata\\local\\programs\\python\\python313\\lib\\site-packages (from matplotlib!=3.6.1,>=3.4->seaborn) (0.12.1)\n",
      "Requirement already satisfied: fonttools>=4.22.0 in c:\\users\\e1ure\\appdata\\local\\programs\\python\\python313\\lib\\site-packages (from matplotlib!=3.6.1,>=3.4->seaborn) (4.55.3)\n",
      "Requirement already satisfied: kiwisolver>=1.3.1 in c:\\users\\e1ure\\appdata\\local\\programs\\python\\python313\\lib\\site-packages (from matplotlib!=3.6.1,>=3.4->seaborn) (1.4.8)\n",
      "Requirement already satisfied: packaging>=20.0 in c:\\users\\e1ure\\appdata\\local\\programs\\python\\python313\\lib\\site-packages (from matplotlib!=3.6.1,>=3.4->seaborn) (24.2)\n",
      "Requirement already satisfied: pillow>=8 in c:\\users\\e1ure\\appdata\\local\\programs\\python\\python313\\lib\\site-packages (from matplotlib!=3.6.1,>=3.4->seaborn) (11.0.0)\n",
      "Requirement already satisfied: pyparsing>=2.3.1 in c:\\users\\e1ure\\appdata\\local\\programs\\python\\python313\\lib\\site-packages (from matplotlib!=3.6.1,>=3.4->seaborn) (3.2.0)\n",
      "Requirement already satisfied: python-dateutil>=2.7 in c:\\users\\e1ure\\appdata\\local\\programs\\python\\python313\\lib\\site-packages (from matplotlib!=3.6.1,>=3.4->seaborn) (2.9.0.post0)\n",
      "Requirement already satisfied: pytz>=2020.1 in c:\\users\\e1ure\\appdata\\local\\programs\\python\\python313\\lib\\site-packages (from pandas>=1.2->seaborn) (2024.2)\n",
      "Requirement already satisfied: tzdata>=2022.7 in c:\\users\\e1ure\\appdata\\local\\programs\\python\\python313\\lib\\site-packages (from pandas>=1.2->seaborn) (2024.2)\n",
      "Requirement already satisfied: six>=1.5 in c:\\users\\e1ure\\appdata\\local\\programs\\python\\python313\\lib\\site-packages (from python-dateutil>=2.7->matplotlib!=3.6.1,>=3.4->seaborn) (1.17.0)\n",
      "Downloading seaborn-0.13.2-py3-none-any.whl (294 kB)\n",
      "Installing collected packages: seaborn\n",
      "Successfully installed seaborn-0.13.2\n"
     ]
    }
   ],
   "source": [
    "!pip install seaborn"
   ]
  },
  {
   "cell_type": "code",
   "execution_count": 49,
   "id": "e2a5b353-bd17-483b-823c-6b8ac59379b7",
   "metadata": {},
   "outputs": [],
   "source": [
    "#we first need to import these visualization libraries to be able to make use of it\n",
    "import matplotlib.pyplot as plt\n",
    "import seaborn as sns"
   ]
  },
  {
   "cell_type": "code",
   "execution_count": 50,
   "id": "406c4a5a-3c37-4ac9-8056-1e47bd8ed834",
   "metadata": {},
   "outputs": [],
   "source": [
    "# Load the cleaned dataset\n",
    "file_path = r\"D:\\College Course 2 PP\\Python\\saburifirstcleaneddataset.csv\""
   ]
  },
  {
   "cell_type": "code",
   "execution_count": 35,
   "id": "bef83e72-87de-43df-bb53-f207207fe193",
   "metadata": {},
   "outputs": [],
   "source": [
    "df = pd.read_csv(file_path)   #this will read the cleaned csv file that was saved and store it in df now to be used for analysis"
   ]
  },
  {
   "cell_type": "code",
   "execution_count": 51,
   "id": "7e32e757-f9a4-47fd-8b43-3efa6e9990bb",
   "metadata": {},
   "outputs": [
    {
     "name": "stdout",
     "output_type": "stream",
     "text": [
      "   ID First_Name Last_Name   Age           City Joined_Date        Salary  \\\n",
      "0   1      Alice     Smith  25.0       New York  2021-01-15  50000.000000   \n",
      "1   2        Bob     Brown  30.0    Los Angeles  2021-01-20  54444.444444   \n",
      "2   3    Charlie   Johnson  35.0        Chicago  2021-03-01  70000.000000   \n",
      "3   5        Eve   Unknown  30.0  San Francisco  2021-06-30  45000.000000   \n",
      "4   6      Frank    Miller  30.0          Miami  2021-12-01  80000.000000   \n",
      "5   7     George     White  45.0        Unknown  2021-09-10  90000.000000   \n",
      "6   8     Hannah     Davis  28.0         Dallas  2021-09-15  54938.271605   \n",
      "7   9    Unknown   Unknown  40.0        Seattle  2025-01-06  60000.000000   \n",
      "8  10       Ivan       Lee  50.0         Boston  2021-11-20  75000.000000   \n",
      "\n",
      "    Gender        Full_Name Age_Group  Joined_Year  \n",
      "0   Female      Alice Smith     Youth         2021  \n",
      "1     Male        Bob Brown     Adult         2021  \n",
      "2     Male  Charlie Johnson     Adult         2021  \n",
      "3   Female      Eve Unknown     Adult         2021  \n",
      "4     Male     Frank Miller     Adult         2021  \n",
      "5     Male     George White    Senior         2021  \n",
      "6   Female     Hannah Davis     Adult         2021  \n",
      "7  Unknown  Unknown Unknown     Adult         2025  \n",
      "8     Male         Ivan Lee    Senior         2021  \n"
     ]
    }
   ],
   "source": [
    "print(df)"
   ]
  },
  {
   "cell_type": "code",
   "execution_count": 87,
   "id": "7ed6dedf-dbda-4892-a7e4-9359abf4d162",
   "metadata": {},
   "outputs": [
    {
     "name": "stderr",
     "output_type": "stream",
     "text": [
      "C:\\Users\\e1ure\\AppData\\Local\\Temp\\ipykernel_21068\\821130053.py:3: FutureWarning: \n",
      "\n",
      "Passing `palette` without assigning `hue` is deprecated and will be removed in v0.14.0. Assign the `x` variable to `hue` and set `legend=False` for the same effect.\n",
      "\n",
      "  sns.countplot(x='Gender', data=df, palette='viridis')\n"
     ]
    },
    {
     "data": {
      "image/png": "[encoded data removed]",
      "text/plain": [
       "<Figure size 800x500 with 1 Axes>"
      ]
     },
     "metadata": {},
     "output_type": "display_data"
    }
   ],
   "source": [
    "# Gender Count Bar Chart\n",
    "plt.figure(figsize=(8, 5))\n",
    "sns.countplot(x='Gender', data=df, palette='viridis')\n",
    "plt.title('Gender Count')\n",
    "plt.xlabel('Gender')\n",
    "plt.ylabel('Count')\n",
    "plt.show()\n"
   ]
  },
  {
   "cell_type": "code",
   "execution_count": 88,
   "id": "754449b2-2ff0-4f6e-8f31-2f9638c020a7",
   "metadata": {},
   "outputs": [
    {
     "name": "stderr",
     "output_type": "stream",
     "text": [
      "C:\\Users\\e1ure\\AppData\\Local\\Temp\\ipykernel_21068\\4065564568.py:4: FutureWarning: \n",
      "\n",
      "Passing `palette` without assigning `hue` is deprecated and will be removed in v0.14.0. Assign the `x` variable to `hue` and set `legend=False` for the same effect.\n",
      "\n",
      "  sns.countplot(x='Age_Group', data=df, palette='muted', order=['Youth', 'Adult', 'Senior'])\n"
     ]
    },
    {
     "data": {
      "image/png": "[encoded data removed]",
      "text/plain": [
       "<Figure size 800x500 with 1 Axes>"
      ]
     },
     "metadata": {},
     "output_type": "display_data"
    }
   ],
   "source": [
    "# 4. Bar Chart -  Age Group Distribution\n",
    "\n",
    "plt.figure(figsize=(8, 5))\n",
    "sns.countplot(x='Age_Group', data=df, palette='muted', order=['Youth', 'Adult', 'Senior'])\n",
    "plt.title('Age Group Distribution')\n",
    "plt.xlabel('Age Group')\n",
    "plt.ylabel('Count')\n",
    "plt.show()"
   ]
  },
  {
   "cell_type": "code",
   "execution_count": 89,
   "id": "dc4d3cec-83ac-476e-902e-ca1c78274654",
   "metadata": {},
   "outputs": [
    {
     "name": "stderr",
     "output_type": "stream",
     "text": [
      "C:\\Users\\e1ure\\AppData\\Local\\Temp\\ipykernel_21068\\1954388434.py:5: FutureWarning: \n",
      "\n",
      "Passing `palette` without assigning `hue` is deprecated and will be removed in v0.14.0. Assign the `x` variable to `hue` and set `legend=False` for the same effect.\n",
      "\n",
      "  sns.barplot(x='City', y='Salary', data=top_cities, palette='Blues_d')\n"
     ]
    },
    {
     "data": {
      "image/png": "[encoded data removed]",
      "text/plain": [
       "<Figure size 1000x600 with 1 Axes>"
      ]
     },
     "metadata": {},
     "output_type": "display_data"
    }
   ],
   "source": [
    "# Top 5 Cities by Salary Sum\n",
    "top_cities = df.groupby('City')['Salary'].sum().nlargest(5).reset_index()\n",
    "\n",
    "plt.figure(figsize=(10, 6))\n",
    "sns.barplot(x='City', y='Salary', data=top_cities, palette='Blues_d')\n",
    "plt.title('Top 5 Cities by Total Salary')\n",
    "plt.xlabel('City')\n",
    "plt.ylabel('Total Salary')\n",
    "plt.show()"
   ]
  },
  {
   "cell_type": "code",
   "execution_count": null,
   "id": "7e441c04-bdc5-4df2-8bce-a0323b3d4153",
   "metadata": {},
   "outputs": [],
   "source": []
  }
 ],
 "metadata": {
  "kernelspec": {
   "display_name": "Python 3 (ipykernel)",
   "language": "python",
   "name": "python3"
  },
  "language_info": {
   "codemirror_mode": {
    "name": "ipython",
    "version": 3
   },
   "file_extension": ".py",
   "mimetype": "text/x-python",
   "name": "python",
   "nbconvert_exporter": "python",
   "pygments_lexer": "ipython3",
   "version": "3.13.1"
  }
 },
 "nbformat": 4,
 "nbformat_minor": 5
}
